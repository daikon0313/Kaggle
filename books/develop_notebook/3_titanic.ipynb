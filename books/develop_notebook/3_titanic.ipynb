{
 "cells": [
  {
   "cell_type": "code",
   "execution_count": 1,
   "id": "c56ef24c",
   "metadata": {
    "_cell_guid": "b1076dfc-b9ad-4769-8c92-a6c4dae69d19",
    "_uuid": "8f2839f25d086af736a60e9eeb907d3b93b6e0e5",
    "execution": {
     "iopub.execute_input": "2025-02-24T10:36:46.855618Z",
     "iopub.status.busy": "2025-02-24T10:36:46.855161Z",
     "iopub.status.idle": "2025-02-24T10:36:47.966228Z",
     "shell.execute_reply": "2025-02-24T10:36:47.965030Z"
    },
    "papermill": {
     "duration": 1.117483,
     "end_time": "2025-02-24T10:36:47.969128",
     "exception": false,
     "start_time": "2025-02-24T10:36:46.851645",
     "status": "completed"
    },
    "tags": []
   },
   "outputs": [],
   "source": [
    "import numpy as np # linear algebra\n",
    "import pandas as pd # data processing, CSV file I/O (e.g. pd.read_csv)\n",
    "\n",
    "train_dt = pd.read_csv(\"/kaggle/input/titanic/train.csv\")\n",
    "test_dt = pd.read_csv(\"/kaggle/input/titanic/test.csv\")"
   ]
  },
  {
   "cell_type": "code",
   "execution_count": 2,
   "id": "1c67661f",
   "metadata": {
    "execution": {
     "iopub.execute_input": "2025-02-24T10:36:47.976822Z",
     "iopub.status.busy": "2025-02-24T10:36:47.976428Z",
     "iopub.status.idle": "2025-02-24T10:36:47.981929Z",
     "shell.execute_reply": "2025-02-24T10:36:47.980729Z"
    },
    "papermill": {
     "duration": 0.011137,
     "end_time": "2025-02-24T10:36:47.983686",
     "exception": false,
     "start_time": "2025-02-24T10:36:47.972549",
     "status": "completed"
    },
    "tags": []
   },
   "outputs": [],
   "source": [
    "def missing_data(data):\n",
    "    total_data = data.isnull().sum()\n",
    "    precent = (data.isnull().sum()/data.isnull().count()*100)\n",
    "    tt = pd.concat([total, precent], axis=1, key=[\"Total\", \"Percent\"])"
   ]
  }
 ],
 "metadata": {
  "kaggle": {
   "accelerator": "none",
   "dataSources": [
    {
     "databundleVersionId": 26502,
     "sourceId": 3136,
     "sourceType": "competition"
    }
   ],
   "dockerImageVersionId": 30918,
   "isGpuEnabled": false,
   "isInternetEnabled": false,
   "language": "python",
   "sourceType": "notebook"
  },
  "kernelspec": {
   "display_name": "Python 3",
   "language": "python",
   "name": "python3"
  },
  "language_info": {
   "codemirror_mode": {
    "name": "ipython",
    "version": 3
   },
   "file_extension": ".py",
   "mimetype": "text/x-python",
   "name": "python",
   "nbconvert_exporter": "python",
   "pygments_lexer": "ipython3",
   "version": "3.10.12"
  },
  "papermill": {
   "default_parameters": {},
   "duration": 4.789743,
   "end_time": "2025-02-24T10:36:48.607058",
   "environment_variables": {},
   "exception": null,
   "input_path": "__notebook__.ipynb",
   "output_path": "__notebook__.ipynb",
   "parameters": {},
   "start_time": "2025-02-24T10:36:43.817315",
   "version": "2.6.0"
  }
 },
 "nbformat": 4,
 "nbformat_minor": 5
}
